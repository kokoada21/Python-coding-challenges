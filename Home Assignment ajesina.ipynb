{
 "cells": [
  {
   "cell_type": "markdown",
   "id": "b5eae6ed",
   "metadata": {},
   "source": [
    "# Formalities\n",
    "\n",
    "You can submit in a group of up to 3 people until 07.05.2023 23.59CET. The deadline is strict!\n",
    "\n",
    "Don't forget to cite **all** your sources. Using code produced by generative models without proper attribution is  plagiarism. \n",
    "\n",
    "# Evaluation and Grading\n",
    "\n",
    "Please, note that the evaluation of your submission is done automatically. Think of it as this notebook being executed once. Afterwards, some test functions are appended to this file and executed respectively.\n",
    "\n",
    "Therefore:\n",
    "\n",
    "* Submit valid *Python3* code only!\n",
    "* Use **external** libraries if and only if specified by task. Using the standard library is fine unless you are told otherwise.\n",
    "* Ensure your definitions (functions, classes, methods, variables) follow the specification. The signature of a function/method/class usually can be inferred from task description, code skeletons and test cases.\n",
    "* Ensure your code does not rely on the current notebook or system state!\n",
    "    * Use ```Kernel > Restart & Run All``` to see if you are using any definitions, variables etc. that are not in scope anymore.\n",
    "    * Double check if your code relies on presence of files or directories other than those mentioned in given tasks.\n",
    "    * When working with files, assume that they are located in your woking directory and don't use paths (```/home/alice/python```, ```../../python```, ```C:\\another\\path```).\n",
    "* Keep your code [idempotent](https://en.wikipedia.org/wiki/Idempotence)! Running your code or parts of it multiple times must not yield different results. Minimize usage of global variables.\n",
    "* Ensure your code/notebook terminates in reasonable time. \n",
    "* Do not use IPython special commands (lines starting with ```%``` or ```!```).\n",
    "\n",
    "**Please, note that there is a story behind each of these points. You should not expect that your code will be fixed. If automatic evaluation fails because you have ignored these warnings then you might get no points for the sub-task.**\n",
    "\n"
   ]
  },
  {
   "cell_type": "markdown",
   "id": "5e129428",
   "metadata": {},
   "source": [
    "# Credentials of all team members\n",
    "Don't forget to change this. You may add or remove items from the list"
   ]
  },
  {
   "cell_type": "code",
   "execution_count": 12,
   "id": "860bc834",
   "metadata": {},
   "outputs": [],
   "source": [
    "team_members = [\n",
    "    {\n",
    "        'first_name': 'Adam',\n",
    "        'last_name': 'Jesina',\n",
    "        'student_id': \n",
    "    }\n",
    "]"
   ]
  },
  {
   "cell_type": "markdown",
   "id": "4f551aae",
   "metadata": {},
   "source": [
    "# 1. Parentheses check. 20 points\n",
    "Write a function that takes an expression as input and checks whether the parentheses are balanced. \n",
    "`(([{}]))` is a valid expression. `[(]`, `(}` are not valid expressions. Your function \n",
    "should output True or False based on the validity of the expression. You could assume that input string does not contain symbols other than `(`, `)`, `[`, `]`, `{`, `}` \n",
    "\n",
    "**Hint: you might want to maintain a list to store parentheses that are openned at the current moment**"
   ]
  },
  {
   "cell_type": "markdown",
   "id": "b08587ae",
   "metadata": {},
   "source": [
    "**Your code:**"
   ]
  },
  {
   "cell_type": "code",
   "execution_count": 2,
   "id": "9627bf8a",
   "metadata": {
    "scrolled": true
   },
   "outputs": [],
   "source": [
    "def parentheses_valid(string):\n",
    "    currentlyOpen = []\n",
    "    \n",
    "    mapping = {\n",
    "        \")\":\"(\",\n",
    "        \"]\":\"[\",\n",
    "        \"}\":\"{\"\n",
    "    }\n",
    "    \n",
    "    for key in string:\n",
    "        if key in mapping:\n",
    "            if mapping[key] != currentlyOpen[-1] and len(currentlyOpen) !=0:\n",
    "                return False\n",
    "            else:\n",
    "                currentlyOpen.pop()\n",
    "        else:\n",
    "            currentlyOpen.append(key)\n",
    "    if len(currentlyOpen) == 0:\n",
    "        return True\n",
    "    else:\n",
    "        return False  "
   ]
  },
  {
   "cell_type": "markdown",
   "id": "133c5352",
   "metadata": {},
   "source": [
    "**Test**\n",
    "\n",
    "The following code could help you to test if your function works correctly. Make sure that no errors are raised when you run this cell! You don't need to change anything in the cell."
   ]
  },
  {
   "cell_type": "code",
   "execution_count": 13,
   "id": "5ef1f2e3",
   "metadata": {},
   "outputs": [],
   "source": [
    "assert parentheses_valid('()[]') == True\n",
    "assert parentheses_valid('[(]') == False\n",
    "assert parentheses_valid('(}') == False"
   ]
  },
  {
   "cell_type": "markdown",
   "id": "072b66a8",
   "metadata": {},
   "source": [
    "# 2. Text processing. 20 + 20 + 20 points\n",
    "\n",
    "In this task your goal is to find words that are specific to a certain text. You will do this by comparing the frequency of words in one text to the frequency of this words in another text. In particular, for each word $w_i$ in the first text you will compute $F_i = (N_i + 1) / (M_i + 1)$ where $N_i$ is the number of occurrences of the word $w_i$ in the first text and $M_i$ is the number of occurrences of word $w_i$ in the second text. We are adding 1 to avoid divison by zero for words that never appear in the second text.\n",
    "\n",
    "The input for the task is two filenames for the first and the second text respectively. This task consists of several subtasks.\n",
    "\n",
    "**Please, note that you cannot use regular expression (import re) for solving this task**"
   ]
  },
  {
   "cell_type": "markdown",
   "id": "7382fee5",
   "metadata": {},
   "source": [
    "## 2.1 Identifying separators. 20 points\n",
    "In order to solve the task you will need to split texts into words. We will define words as sequences of latin letters. The first subtask is to identify all symbols in both text that are not latin letters. Your function should get two filenames as an input and return a list or a set of unique characters."
   ]
  },
  {
   "cell_type": "markdown",
   "id": "54858eda",
   "metadata": {},
   "source": [
    "**Your code:**"
   ]
  },
  {
   "cell_type": "code",
   "execution_count": 14,
   "id": "58a3268c",
   "metadata": {},
   "outputs": [],
   "source": [
    "def get_separators(filename1, filename2):\n",
    "    result = set()\n",
    "    with open(filename1, 'r', encoding=\"utf-8\") as file1, open(filename2, 'r', encoding=\"utf-8\") as file2:\n",
    "        combinedString = file1.read() + file2.read();\n",
    "        for char in combinedString:\n",
    "            if not char.encode().isalpha():\n",
    "                result.add(char)\n",
    "        return list(result)"
   ]
  },
  {
   "cell_type": "markdown",
   "id": "869dfcc2",
   "metadata": {},
   "source": [
    "**Test**\n",
    "\n",
    "The following code could help you to test if your function works correctly. Make sure that no errors are raised when you run this cell! You don't need to change anything in the cell. The ```small_text1.txt``` and ```small_text2.txt``` files are availble on Ilias."
   ]
  },
  {
   "cell_type": "code",
   "execution_count": 15,
   "id": "fe6bcb15",
   "metadata": {},
   "outputs": [],
   "source": [
    "separators = get_separators('small_text1.txt', 'small_text2.txt')\n",
    "assert set(separators) == set(['5','8','à','–','(','-','.','\\n',\"'\",',',';','1',')','é',' ','4','2','9'])"
   ]
  },
  {
   "cell_type": "markdown",
   "id": "0088b624",
   "metadata": {},
   "source": [
    "## 2.2 Countring words. 20 points\n",
    "Write a function that would count number of words in a given file. Your function should get a file name as an input and return a dictionary where keys are words and values are number of occurrences. The function from 2.1 should help you."
   ]
  },
  {
   "cell_type": "markdown",
   "id": "ee958cf6",
   "metadata": {},
   "source": [
    "**Your code:**"
   ]
  },
  {
   "cell_type": "code",
   "execution_count": 16,
   "id": "7100f018",
   "metadata": {},
   "outputs": [],
   "source": [
    "def customSplit(txt, seps):\n",
    "    default_sep = \" \"\n",
    "    for sep in seps:\n",
    "        txt = txt.replace(sep, default_sep)\n",
    "    return [i.strip() for i in txt.split(default_sep)]\n",
    "\n",
    "def get_count(filename, separators):\n",
    "    result = {}\n",
    "    with open(filename, 'r', encoding = 'utf-8') as file1:\n",
    "        plainText = file1.read().lower()\n",
    "        \n",
    "        splittedText = customSplit(plainText, separators)\n",
    "        for word in splittedText:\n",
    "            if word.encode().isalpha():\n",
    "                if word in result:\n",
    "                    result[word] += 1\n",
    "                else:\n",
    "                    result[word] = 1\n",
    "    return result"
   ]
  },
  {
   "cell_type": "markdown",
   "id": "723b34de",
   "metadata": {},
   "source": [
    "**Test**\n",
    "\n",
    "The following code could help you to test if your function works correctly. Make sure that no errors are raised when you run this cell! You don't need to change anything in the cell."
   ]
  },
  {
   "cell_type": "code",
   "execution_count": 17,
   "id": "641ba680",
   "metadata": {},
   "outputs": [],
   "source": [
    "counter = get_count('small_text1.txt', separators)\n",
    "assert counter == {'virginia': 2, 'woolf': 1, 'n': 1, 'e': 1, 'adeline': 1, 'alexandra': 1, 'stephen': 1, 'le': 2, 'janvier': 1, 'londres': 1, 'et': 4, 'morte': 1, 'mars': 1, 'rodmell': 1, 'royaume': 1, 'uni': 1, 'est': 2, 'une': 3, 'autrice': 1, 'femme': 1, 'de': 2, 'lettres': 1, 'britannique': 1, 'dans': 1, 'l': 1, 'entre': 1, 'deux': 1, 'guerres': 1, 'elle': 1, 'figure': 1, 'marquante': 1, 'la': 1, 'soci': 1, 't': 1, 'litt': 1, 'raire': 1, 'londonienne': 1, 'membre': 1, 'centrale': 1, 'du': 1, 'bloomsbury': 1, 'group': 1, 'qui': 1, 'r': 1, 'unit': 1, 'des': 1, 'crivains': 1, 'artistes': 1, 'philosophes': 1, 'anglais': 1}"
   ]
  },
  {
   "cell_type": "markdown",
   "id": "8dbb562a",
   "metadata": {},
   "source": [
    "## 2.3 Finding the most specific words. 20 points\n",
    "Now use the function from previous subtask to compute $F_i$. Your function should get two filenames as input and return the dictionary with relatives frequences.\n",
    "\n",
    "Run this function for files ```text1.txt``` and ```text2.txt```, find 20 most specific words for ```text1.txt``` (highest values of $F_i$), and store them in ```TOP``` variable."
   ]
  },
  {
   "cell_type": "markdown",
   "id": "0050d260",
   "metadata": {},
   "source": [
    "**Your code:**"
   ]
  },
  {
   "cell_type": "code",
   "execution_count": 18,
   "id": "c81d63fc",
   "metadata": {},
   "outputs": [],
   "source": [
    "def find_words(filename1, filename2):\n",
    "    result = {}\n",
    "    localSeparators = get_separators(filename1, filename2)\n",
    "    dict1 = get_count(filename1, localSeparators)\n",
    "    dict2 = get_count(filename2, localSeparators)\n",
    "    \n",
    "    for key in dict1:\n",
    "        if key in dict2:\n",
    "            result[key] = (dict1[key] + 1) / (dict2[key] + 1)\n",
    "        else:\n",
    "            result[key] = dict1[key] + 1\n",
    "    sortedDictionary = dict(sorted(result.items(), key=lambda x:x[1], reverse = True))\n",
    "    return sortedDictionary\n",
    "\n",
    "TOP = list(find_words('text1.txt', 'text2.txt'))[0:20]"
   ]
  },
  {
   "cell_type": "markdown",
   "id": "50248b64",
   "metadata": {},
   "source": [
    "**Test**\n",
    "\n",
    "The following code could help you to test if your function works correctly. Make sure that no errors are raised when you run this cell! You don't need to change anything in the cell."
   ]
  },
  {
   "cell_type": "code",
   "execution_count": 19,
   "id": "e0f84e4c",
   "metadata": {},
   "outputs": [],
   "source": [
    "assert find_words('tiny_text1.txt', 'tiny_text2.txt') == {'jane': 2, 'austen': 2, 'was': 1.0, 'an': 1.0, 'english': 1.0, 'novelist': 2}\n",
    "assert TOP == ['ramsay', 'lily', 'bankes', 'minta', 'lighthouse', 'cam', 'tansley', 'paul', 'andrew', 'boat', 'carmichael', 'briscoe', 'sea', 'beach', 'flowers', 'waves', 'brush', 'prue', 'nancy', 'sun']"
   ]
  },
  {
   "cell_type": "markdown",
   "id": "296a1113",
   "metadata": {},
   "source": [
    "# 3. Prime factorization. 20 points\n",
    "Write a function that takes as input a number and outputs all the prime factors of the number.\n",
    "Your function should output a dictionary with all the prime factors as keys and their corresponding \n",
    "orders as values.\n",
    "\n",
    "**Hint: you might want to use a function (functions) that we have implemented in our Exercises**."
   ]
  },
  {
   "cell_type": "markdown",
   "id": "a3aad256",
   "metadata": {},
   "source": [
    "**Your code:**"
   ]
  },
  {
   "cell_type": "code",
   "execution_count": 20,
   "id": "bb199822",
   "metadata": {},
   "outputs": [],
   "source": [
    "def prime_factors(k):\n",
    "    result = {}\n",
    "    p = 2\n",
    "    while k > 1:\n",
    "        if k % p == 0:\n",
    "            if p not in result:\n",
    "                result[p] = 1\n",
    "            else:\n",
    "                result[p] +=1\n",
    "            k = k // p\n",
    "        else:\n",
    "            p = p + 1  \n",
    "    return result"
   ]
  },
  {
   "cell_type": "markdown",
   "id": "0613dc3e",
   "metadata": {},
   "source": [
    "**Test**\n",
    "\n",
    "The following code could help you to test if your function works correctly. Make sure that no errors are raised when you run this cell! You don't need to change anything in the cell."
   ]
  },
  {
   "cell_type": "code",
   "execution_count": 11,
   "id": "20eb4c4f",
   "metadata": {},
   "outputs": [],
   "source": [
    "assert prime_factors(9) == {3: 2}\n",
    "assert prime_factors(12) == {3: 1, 2: 2}"
   ]
  }
 ],
 "metadata": {
  "kernelspec": {
   "display_name": "Python 3 (ipykernel)",
   "language": "python",
   "name": "python3"
  },
  "language_info": {
   "codemirror_mode": {
    "name": "ipython",
    "version": 3
   },
   "file_extension": ".py",
   "mimetype": "text/x-python",
   "name": "python",
   "nbconvert_exporter": "python",
   "pygments_lexer": "ipython3",
   "version": "3.9.13"
  }
 },
 "nbformat": 4,
 "nbformat_minor": 5
}
